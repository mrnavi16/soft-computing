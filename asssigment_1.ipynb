{
  "nbformat": 4,
  "nbformat_minor": 0,
  "metadata": {
    "colab": {
      "provenance": []
    },
    "kernelspec": {
      "name": "python3",
      "display_name": "Python 3"
    },
    "language_info": {
      "name": "python"
    }
  },
  "cells": [
    {
      "cell_type": "markdown",
      "source": [
        "#1. Demonstrate basic syntax commands in Python:\n",
        "a) Variable Declaration\n"
      ],
      "metadata": {
        "id": "wubc0fL5-mUp"
      }
    },
    {
      "cell_type": "code",
      "source": [
        "x = 10\n",
        "name = \"John\"\n"
      ],
      "metadata": {
        "id": "9F0dy30s-ruT"
      },
      "execution_count": 79,
      "outputs": []
    },
    {
      "cell_type": "markdown",
      "source": [
        "b) Arithmetic Operators (+, -, , /, //, %, *)\n"
      ],
      "metadata": {
        "id": "L94BQjlH-25o"
      }
    },
    {
      "cell_type": "code",
      "source": [
        "a = 10\n",
        "b = 5\n",
        "print(a + b)\n",
        "print(a - b)\n",
        "print(a * b)\n",
        "print(a / b)\n",
        "print(a // b)\n",
        "print(a % b)\n",
        "print(a ** b)\n"
      ],
      "metadata": {
        "colab": {
          "base_uri": "https://localhost:8080/"
        },
        "id": "FlvqBwpy-5Gt",
        "outputId": "c2147019-77cb-4a36-d18e-dd5b47b85df5"
      },
      "execution_count": 80,
      "outputs": [
        {
          "output_type": "stream",
          "name": "stdout",
          "text": [
            "15\n",
            "5\n",
            "50\n",
            "2.0\n",
            "2\n",
            "0\n",
            "100000\n"
          ]
        }
      ]
    },
    {
      "cell_type": "markdown",
      "source": [
        "c) Bitwise Operators (&, |, ^, >>, <<, ~)\n"
      ],
      "metadata": {
        "id": "7SktK3gX-5px"
      }
    },
    {
      "cell_type": "code",
      "source": [
        "a = 10\n",
        "b = 4\n",
        "print(a & b)\n",
        "print(a | b)\n",
        "print(a ^ b)\n",
        "print(a >> 1)\n",
        "print(a << 1)\n",
        "print(~a)"
      ],
      "metadata": {
        "colab": {
          "base_uri": "https://localhost:8080/"
        },
        "id": "dg5jbXVk-6EB",
        "outputId": "5cd6e253-f446-454a-ef49-b0bb8a5d8121"
      },
      "execution_count": 81,
      "outputs": [
        {
          "output_type": "stream",
          "name": "stdout",
          "text": [
            "0\n",
            "14\n",
            "14\n",
            "5\n",
            "20\n",
            "-11\n"
          ]
        }
      ]
    },
    {
      "cell_type": "markdown",
      "source": [
        "d) Comparison Operator (==, !=, >, <, >=, <=)\n"
      ],
      "metadata": {
        "id": "ZWQfycpC-6hF"
      }
    },
    {
      "cell_type": "code",
      "source": [
        "a = 10\n",
        "b = 5\n",
        "print(a == b)\n",
        "print(a != b)\n",
        "print(a > b)\n",
        "print(a < b)\n",
        "print(a >= b)\n",
        "print(a <= b)\n"
      ],
      "metadata": {
        "colab": {
          "base_uri": "https://localhost:8080/"
        },
        "id": "Dv-WrXyw-688",
        "outputId": "7af9b357-80f6-48ff-b8db-9d940e0c42a8"
      },
      "execution_count": 82,
      "outputs": [
        {
          "output_type": "stream",
          "name": "stdout",
          "text": [
            "False\n",
            "True\n",
            "True\n",
            "False\n",
            "True\n",
            "False\n"
          ]
        }
      ]
    },
    {
      "cell_type": "markdown",
      "source": [
        "e) Assignment Operators (=, +=, -=, /=, //= etc.)\n"
      ],
      "metadata": {
        "id": "dfy-YP7X-7S6"
      }
    },
    {
      "cell_type": "code",
      "source": [
        "a = 10\n",
        "a += 5\n",
        "a -= 2\n",
        "a *= 3\n",
        "a /= 2\n",
        "a //= 2\n"
      ],
      "metadata": {
        "id": "61xb1j1f_Dfp"
      },
      "execution_count": 83,
      "outputs": []
    },
    {
      "cell_type": "markdown",
      "source": [
        "f) Logical Operators (and, or, not)\n"
      ],
      "metadata": {
        "id": "0aKxVi47_D15"
      }
    },
    {
      "cell_type": "code",
      "source": [
        "a = True\n",
        "b = False\n",
        "print(a and b)\n",
        "print(a or b)\n",
        "print(not a)\n"
      ],
      "metadata": {
        "colab": {
          "base_uri": "https://localhost:8080/"
        },
        "id": "QQminLgd_EQ6",
        "outputId": "4d7c5c8f-f356-4659-edc2-35471f3e65c1"
      },
      "execution_count": 84,
      "outputs": [
        {
          "output_type": "stream",
          "name": "stdout",
          "text": [
            "False\n",
            "True\n",
            "False\n"
          ]
        }
      ]
    },
    {
      "cell_type": "markdown",
      "source": [
        "g) Identity Operators (is, is not)\n"
      ],
      "metadata": {
        "id": "5ehjqKFc_Eu8"
      }
    },
    {
      "cell_type": "code",
      "source": [
        "x = [\"apple\", \"banana\"]\n",
        "y = [\"apple\", \"banana\"]\n",
        "print(x is y)\n",
        "print(x is not y)\n"
      ],
      "metadata": {
        "colab": {
          "base_uri": "https://localhost:8080/"
        },
        "id": "uoPxmY8w_Jbf",
        "outputId": "ffabb87a-bcdc-4e14-db25-130e7764e6c3"
      },
      "execution_count": 85,
      "outputs": [
        {
          "output_type": "stream",
          "name": "stdout",
          "text": [
            "False\n",
            "True\n"
          ]
        }
      ]
    },
    {
      "cell_type": "markdown",
      "source": [
        "h) Membership Operators (in, not in)\n"
      ],
      "metadata": {
        "id": "wqGmpB-o_JuM"
      }
    },
    {
      "cell_type": "code",
      "source": [
        "x = [\"apple\", \"banana\"]\n",
        "print(\"apple\" in x)\n",
        "print(\"orange\" not in x)\n"
      ],
      "metadata": {
        "colab": {
          "base_uri": "https://localhost:8080/"
        },
        "id": "PyUS2Nn0_KS1",
        "outputId": "578f7370-4dfa-4cca-f142-2bf77ac3945e"
      },
      "execution_count": 86,
      "outputs": [
        {
          "output_type": "stream",
          "name": "stdout",
          "text": [
            "True\n",
            "True\n"
          ]
        }
      ]
    },
    {
      "cell_type": "markdown",
      "source": [
        "i) if-else"
      ],
      "metadata": {
        "id": "NpkXV7Yn_KnR"
      }
    },
    {
      "cell_type": "code",
      "source": [
        "a = 10\n",
        "if a > 5:\n",
        "    print(\"a is greater than 5\")\n",
        "else:\n",
        "    print(\"a is not greater than 5\")\n"
      ],
      "metadata": {
        "colab": {
          "base_uri": "https://localhost:8080/"
        },
        "id": "WDkC-Fn__LEk",
        "outputId": "4dab1c12-676a-4539-a25a-ecbf31ba33d1"
      },
      "execution_count": 87,
      "outputs": [
        {
          "output_type": "stream",
          "name": "stdout",
          "text": [
            "a is greater than 5\n"
          ]
        }
      ]
    },
    {
      "cell_type": "markdown",
      "source": [
        "# 2. WAP to print the table of n; where n will be given by the user using the loop:\n",
        "a) While Loop\n"
      ],
      "metadata": {
        "id": "d2tvJTe6_Lpp"
      }
    },
    {
      "cell_type": "code",
      "source": [
        "n = int(input(\"Enter a number: \"))\n",
        "\n",
        "i = 1\n",
        "while i <= 10:\n",
        "    print(n, \"x\", i, \"=\", n * i)\n",
        "    i += 1\n"
      ],
      "metadata": {
        "colab": {
          "base_uri": "https://localhost:8080/"
        },
        "id": "ax8ksBl7_5Qg",
        "outputId": "2f6ebb0d-338c-4db9-fa90-14afaa80c9ed"
      },
      "execution_count": 88,
      "outputs": [
        {
          "output_type": "stream",
          "name": "stdout",
          "text": [
            "Enter a number: 5\n",
            "5 x 1 = 5\n",
            "5 x 2 = 10\n",
            "5 x 3 = 15\n",
            "5 x 4 = 20\n",
            "5 x 5 = 25\n",
            "5 x 6 = 30\n",
            "5 x 7 = 35\n",
            "5 x 8 = 40\n",
            "5 x 9 = 45\n",
            "5 x 10 = 50\n"
          ]
        }
      ]
    },
    {
      "cell_type": "markdown",
      "source": [
        "b) For Loop"
      ],
      "metadata": {
        "id": "QHCdGcuK_5na"
      }
    },
    {
      "cell_type": "code",
      "source": [
        "n = int(input(\"Enter a number: \"))\n",
        "for i in range(1, 11):\n",
        "    print(n, \"x\", i, \"=\", n * i)\n"
      ],
      "metadata": {
        "colab": {
          "base_uri": "https://localhost:8080/"
        },
        "id": "swwqoRTq_5_v",
        "outputId": "07db3b91-1dda-4ad1-c7fa-63d323cdd300"
      },
      "execution_count": 89,
      "outputs": [
        {
          "output_type": "stream",
          "name": "stdout",
          "text": [
            "Enter a number: 4\n",
            "4 x 1 = 4\n",
            "4 x 2 = 8\n",
            "4 x 3 = 12\n",
            "4 x 4 = 16\n",
            "4 x 5 = 20\n",
            "4 x 6 = 24\n",
            "4 x 7 = 28\n",
            "4 x 8 = 32\n",
            "4 x 9 = 36\n",
            "4 x 10 = 40\n"
          ]
        }
      ]
    },
    {
      "cell_type": "markdown",
      "source": [
        "#3. WAP to demonstrate the use of range function."
      ],
      "metadata": {
        "id": "iSlLsSza_7zw"
      }
    },
    {
      "cell_type": "code",
      "source": [
        "# Using range() to generate a sequence of numbers\n",
        "for i in range(5):\n",
        "    print(i, end=\" \")\n",
        "\n",
        "print()\n",
        "\n",
        "# Using range() with start and end parameters\n",
        "for i in range(1, 6):\n",
        "    print(i, end=\" \")\n",
        "\n",
        "print()\n",
        "\n",
        "# Using range() with start, end, and step parameters\n",
        "for i in range(1, 10, 2):\n",
        "    print(i, end=\" \")\n",
        "\n",
        "print()\n",
        "\n",
        "# Using range() in reverse order\n",
        "for i in range(10, 0, -1):\n",
        "    print(i, end=\" \")\n"
      ],
      "metadata": {
        "colab": {
          "base_uri": "https://localhost:8080/"
        },
        "id": "7Xg7BFQM_8KM",
        "outputId": "12fcd7b3-9f40-4a7d-a555-541a34658a2d"
      },
      "execution_count": 90,
      "outputs": [
        {
          "output_type": "stream",
          "name": "stdout",
          "text": [
            "0 1 2 3 4 \n",
            "1 2 3 4 5 \n",
            "1 3 5 7 9 \n",
            "10 9 8 7 6 5 4 3 2 1 "
          ]
        }
      ]
    },
    {
      "cell_type": "markdown",
      "source": [
        "#4. WAP using function that add all odd numbers from 1 to n; n given by user."
      ],
      "metadata": {
        "id": "YfhAw28A_8gL"
      }
    },
    {
      "cell_type": "code",
      "source": [
        "def add_odd_numbers(n):\n",
        "    total = 0\n",
        "    for i in range(1, n + 1, 2):\n",
        "        total += i\n",
        "    return total\n",
        "n = int(input(\"Enter a number (n): \"))\n",
        "result = add_odd_numbers(n)\n",
        "print(\"Sum of all odd numbers from 1 to\", n, \"is:\", result)\n"
      ],
      "metadata": {
        "colab": {
          "base_uri": "https://localhost:8080/"
        },
        "id": "KzB1i7y3A4TN",
        "outputId": "a2dd881d-00e6-41c4-e224-ba9c2b2a80be"
      },
      "execution_count": 91,
      "outputs": [
        {
          "output_type": "stream",
          "name": "stdout",
          "text": [
            "Enter a number (n): 9\n",
            "Sum of all odd numbers from 1 to 9 is: 25\n"
          ]
        }
      ]
    },
    {
      "cell_type": "markdown",
      "source": [
        "#5. WAP using function that add all even numbers from 1 to n; n given by user."
      ],
      "metadata": {
        "id": "d8YfddSoA4n9"
      }
    },
    {
      "cell_type": "code",
      "source": [
        "def add_even_numbers(n):\n",
        "    total = 0\n",
        "    for i in range(2, n + 1, 2):\n",
        "        total += i\n",
        "    return total\n",
        "\n",
        "n = int(input(\"Enter a number (n): \"))\n",
        "result = add_even_numbers(n)\n",
        "print(\"Sum of all even numbers from 1 to\", n, \"is:\", result)\n"
      ],
      "metadata": {
        "colab": {
          "base_uri": "https://localhost:8080/"
        },
        "id": "jyIYRpCPA5GM",
        "outputId": "4bcf4f61-cf3e-4761-efe0-b9e39d3bfd9f"
      },
      "execution_count": 92,
      "outputs": [
        {
          "output_type": "stream",
          "name": "stdout",
          "text": [
            "Enter a number (n): 9\n",
            "Sum of all even numbers from 1 to 9 is: 20\n"
          ]
        }
      ]
    },
    {
      "cell_type": "markdown",
      "source": [
        "#6. WAP using function that add all prime numbers from 1 to n; n given by user."
      ],
      "metadata": {
        "id": "EWFpv_60Beyb"
      }
    },
    {
      "cell_type": "code",
      "source": [
        "def is_prime(num):\n",
        "    if num <= 1:\n",
        "        return False\n",
        "    if num == 2:\n",
        "        return True\n",
        "    if num % 2 == 0:\n",
        "        return False\n",
        "    for i in range(3, int(num ** 0.5) + 1, 2):\n",
        "        if num % i == 0:\n",
        "            return False\n",
        "    return True\n",
        "\n",
        "def add_prime_numbers(n):\n",
        "    total = 0\n",
        "    for i in range(2, n + 1):\n",
        "        if is_prime(i):\n",
        "            total += i\n",
        "    return total\n",
        "n = int(input(\"Enter a number (n): \"))\n",
        "result = add_prime_numbers(n)\n",
        "print(\"Sum of all prime numbers from 1 to\", n, \"is:\", result)\n"
      ],
      "metadata": {
        "colab": {
          "base_uri": "https://localhost:8080/"
        },
        "id": "W-GFdKrrBfWw",
        "outputId": "e1c520a7-58f2-405e-d4d6-5a72acebb1e1"
      },
      "execution_count": 93,
      "outputs": [
        {
          "output_type": "stream",
          "name": "stdout",
          "text": [
            "Enter a number (n): 180\n",
            "Sum of all prime numbers from 1 to 180 is: 3266\n"
          ]
        }
      ]
    },
    {
      "cell_type": "markdown",
      "source": [
        "#7. Demonstrate the use various functions in Math Library"
      ],
      "metadata": {
        "id": "d9vQ0jf7Bfuv"
      }
    },
    {
      "cell_type": "code",
      "source": [
        "import math\n",
        "\n",
        "print(\"Value of pi:\", math.pi)\n",
        "print(\"Value of Euler's number (e):\", math.e)\n",
        "\n",
        "angle = 45\n",
        "radians = math.radians(angle)\n",
        "print(\"Sine of\", angle, \"degrees:\", math.sin(radians))\n",
        "print(\"Cosine of\", angle, \"degrees:\", math.cos(radians))\n",
        "print(\"Tangent of\", angle, \"degrees:\", math.tan(radians))\n",
        "print(\"Inverse sine of 0.5:\", math.degrees(math.asin(0.5)))\n",
        "\n",
        "\n",
        "print(\"Exponential of 2:\", math.exp(2))\n",
        "print(\"Natural logarithm of 10:\", math.log(10))\n",
        "print(\"Base-10 logarithm of 100:\", math.log10(100))\n",
        "\n",
        "\n",
        "print(\"2 raised to the power of 3:\", math.pow(2, 3))\n",
        "print(\"Square root of 25:\", math.sqrt(25))\n",
        "\n",
        "\n",
        "print(\"Ceiling of 4.6:\", math.ceil(4.6))\n",
        "print(\"Floor of 4.6:\", math.floor(4.6))\n",
        "print(\"Absolute value of -10:\", math.fabs(-10))\n",
        "\n",
        "print(\"GCD of 24 and 36:\", math.gcd(24, 36))\n",
        "\n",
        "def lcm(x, y):\n",
        "    return x * y // math.gcd(x, y)\n",
        "print(\"LCM of 24 and 36:\", lcm(24, 36))\n",
        "\n",
        "\n",
        "print(\"Factorial of 5:\", math.factorial(5))\n",
        "\n",
        "print(\"Hyperbolic sine of 1.5:\", math.sinh(1.5))\n",
        "print(\"Inverse hyperbolic sine of 2.3:\", math.asinh(2.3))\n"
      ],
      "metadata": {
        "colab": {
          "base_uri": "https://localhost:8080/"
        },
        "id": "5xV8-vqZBgEa",
        "outputId": "9259aa7b-b627-4891-9b70-f1bbc1e1796b"
      },
      "execution_count": 94,
      "outputs": [
        {
          "output_type": "stream",
          "name": "stdout",
          "text": [
            "Value of pi: 3.141592653589793\n",
            "Value of Euler's number (e): 2.718281828459045\n",
            "Sine of 45 degrees: 0.7071067811865475\n",
            "Cosine of 45 degrees: 0.7071067811865476\n",
            "Tangent of 45 degrees: 0.9999999999999999\n",
            "Inverse sine of 0.5: 30.000000000000004\n",
            "Exponential of 2: 7.38905609893065\n",
            "Natural logarithm of 10: 2.302585092994046\n",
            "Base-10 logarithm of 100: 2.0\n",
            "2 raised to the power of 3: 8.0\n",
            "Square root of 25: 5.0\n",
            "Ceiling of 4.6: 5\n",
            "Floor of 4.6: 4\n",
            "Absolute value of -10: 10.0\n",
            "GCD of 24 and 36: 12\n",
            "LCM of 24 and 36: 72\n",
            "Factorial of 5: 120\n",
            "Hyperbolic sine of 1.5: 2.1292794550948173\n",
            "Inverse hyperbolic sine of 2.3: 1.570278543484978\n"
          ]
        }
      ]
    },
    {
      "cell_type": "markdown",
      "source": [
        "#8. Demonstrate the basic String Handling in Python:\n",
        "a) Count the alphabets in String\n"
      ],
      "metadata": {
        "id": "23ODakx1Bgax"
      }
    },
    {
      "cell_type": "code",
      "source": [
        "string = \"Hello World\"\n",
        "alphabet_count = sum(1 for char in string if char.isalpha())\n",
        "print(\"Number of alphabets in the string:\", alphabet_count)\n"
      ],
      "metadata": {
        "colab": {
          "base_uri": "https://localhost:8080/"
        },
        "id": "kIUpAfMmBhR6",
        "outputId": "b8bf0c89-278d-42d2-a3e3-15c941145ea2"
      },
      "execution_count": 95,
      "outputs": [
        {
          "output_type": "stream",
          "name": "stdout",
          "text": [
            "Number of alphabets in the string: 10\n"
          ]
        }
      ]
    },
    {
      "cell_type": "markdown",
      "source": [
        "b) Single, double, and triple quotes\n"
      ],
      "metadata": {
        "id": "ABdnoAmyBhn6"
      }
    },
    {
      "cell_type": "code",
      "source": [
        "single_quotes = 'This is a string using single quotes.'\n",
        "double_quotes = \"This is a string using double quotes.\"\n",
        "triple_quotes = '''This is a string using triple quotes.'''\n",
        "print(single_quotes)\n",
        "print(double_quotes)\n",
        "print(triple_quotes)\n"
      ],
      "metadata": {
        "colab": {
          "base_uri": "https://localhost:8080/"
        },
        "id": "vwA6UpUuBh-y",
        "outputId": "7cdafb0a-319b-481f-f2f8-d9515f77d774"
      },
      "execution_count": 96,
      "outputs": [
        {
          "output_type": "stream",
          "name": "stdout",
          "text": [
            "This is a string using single quotes.\n",
            "This is a string using double quotes.\n",
            "This is a string using triple quotes.\n"
          ]
        }
      ]
    },
    {
      "cell_type": "markdown",
      "source": [
        "c) Removal of white spaces\n"
      ],
      "metadata": {
        "id": "FR7_9RURBicX"
      }
    },
    {
      "cell_type": "code",
      "source": [
        "string_with_spaces = \"  Hello   World  \"\n",
        "string_without_spaces = string_with_spaces.strip()\n",
        "print(\"String without leading and trailing spaces:\", string_without_spaces)\n"
      ],
      "metadata": {
        "colab": {
          "base_uri": "https://localhost:8080/"
        },
        "id": "uyhc29izBizw",
        "outputId": "011ae76d-6f52-4690-e8b0-0fa80aba1660"
      },
      "execution_count": 97,
      "outputs": [
        {
          "output_type": "stream",
          "name": "stdout",
          "text": [
            "String without leading and trailing spaces: Hello   World\n"
          ]
        }
      ]
    },
    {
      "cell_type": "markdown",
      "source": [
        "d) String Split\n"
      ],
      "metadata": {
        "id": "4v526OWxCNyc"
      }
    },
    {
      "cell_type": "code",
      "source": [
        "sentence = \"Python is a programming language\"\n",
        "words = sentence.split()\n",
        "print(\"List of words:\", words)\n"
      ],
      "metadata": {
        "colab": {
          "base_uri": "https://localhost:8080/"
        },
        "id": "O0J8s1iGCOLa",
        "outputId": "98076a14-447f-4476-b2b7-f1b8afe54eda"
      },
      "execution_count": 98,
      "outputs": [
        {
          "output_type": "stream",
          "name": "stdout",
          "text": [
            "List of words: ['Python', 'is', 'a', 'programming', 'language']\n"
          ]
        }
      ]
    },
    {
      "cell_type": "markdown",
      "source": [
        "e) Reverse a string\n"
      ],
      "metadata": {
        "id": "qby6_hdkCOn8"
      }
    },
    {
      "cell_type": "code",
      "source": [
        "string = \"Hello World\"\n",
        "reversed_string = string[::-1]\n",
        "print(\"Reversed string:\", reversed_string)\n"
      ],
      "metadata": {
        "colab": {
          "base_uri": "https://localhost:8080/"
        },
        "id": "-DAbo1qjCPHW",
        "outputId": "6ad89444-7750-498b-ff1e-25091ab5c070"
      },
      "execution_count": 99,
      "outputs": [
        {
          "output_type": "stream",
          "name": "stdout",
          "text": [
            "Reversed string: dlroW olleH\n"
          ]
        }
      ]
    },
    {
      "cell_type": "markdown",
      "source": [
        "f) Palindrome"
      ],
      "metadata": {
        "id": "MWchC_LzCPc4"
      }
    },
    {
      "cell_type": "code",
      "source": [
        "def is_palindrome(string):\n",
        "    return string == string[::-1]\n",
        "\n",
        "test_string = \"radar\"\n",
        "if is_palindrome(test_string):\n",
        "    print(test_string, \"is a palindrome.\")\n",
        "else:\n",
        "    print(test_string, \"is not a palindrome.\")\n"
      ],
      "metadata": {
        "colab": {
          "base_uri": "https://localhost:8080/"
        },
        "id": "0OxSlEshCQBx",
        "outputId": "1de651cd-0059-47bd-9aab-36ec33a38748"
      },
      "execution_count": 100,
      "outputs": [
        {
          "output_type": "stream",
          "name": "stdout",
          "text": [
            "radar is a palindrome.\n"
          ]
        }
      ]
    },
    {
      "cell_type": "markdown",
      "source": [
        "#9. Demonstrate two applications of random generators.\n",
        "1. Random Number Generation for Simulations"
      ],
      "metadata": {
        "id": "uB6XwWphCQY-"
      }
    },
    {
      "cell_type": "code",
      "source": [
        "import random\n",
        "\n",
        "dice_roll = random.randint(1, 6)\n",
        "print(\"Dice roll:\", dice_roll)\n",
        "\n",
        "coin_toss = random.choice([\"Heads\", \"Tails\"])\n",
        "print(\"Coin toss:\", coin_toss)\n"
      ],
      "metadata": {
        "colab": {
          "base_uri": "https://localhost:8080/"
        },
        "id": "FZdQhiEnCkAm",
        "outputId": "86cbbb83-7027-4410-f244-5c66b65c4ecd"
      },
      "execution_count": 101,
      "outputs": [
        {
          "output_type": "stream",
          "name": "stdout",
          "text": [
            "Dice roll: 2\n",
            "Coin toss: Tails\n"
          ]
        }
      ]
    },
    {
      "cell_type": "markdown",
      "source": [
        "2. Random Sampling for Data Analysis"
      ],
      "metadata": {
        "id": "3ISng2GwCkYe"
      }
    },
    {
      "cell_type": "code",
      "source": [
        "import random\n",
        "\n",
        "data = [1, 2, 3, 4, 5, 6, 7, 8, 9, 10]\n",
        "sample_size = 5\n",
        "random_sample = random.sample(data, sample_size)\n",
        "print(\"Random sample:\", random_sample)\n"
      ],
      "metadata": {
        "colab": {
          "base_uri": "https://localhost:8080/"
        },
        "id": "jasSaRcECku1",
        "outputId": "48088560-c7bd-444c-cf7a-0f08799c0acf"
      },
      "execution_count": 102,
      "outputs": [
        {
          "output_type": "stream",
          "name": "stdout",
          "text": [
            "Random sample: [1, 10, 4, 8, 9]\n"
          ]
        }
      ]
    },
    {
      "cell_type": "markdown",
      "source": [
        "#10. Demonstrate basic Excepting Handling in Python"
      ],
      "metadata": {
        "id": "0mob2qmQClFS"
      }
    },
    {
      "cell_type": "code",
      "source": [
        "try:\n",
        "\n",
        "    x = 10 / 0\n",
        "except ZeroDivisionError:\n",
        "\n",
        "    print(\"Error: Division by zero!\")\n",
        "except Exception as e:\n",
        "\n",
        "    print(\"An error occurred:\", e)\n",
        "else:\n",
        "\n",
        "    print(\"No exception occurred.\")\n",
        "finally:\n",
        "\n",
        "    print(\"This will always execute.\")\n",
        "try:\n",
        "    number = int(input(\"Enter a number: \"))\n",
        "except ValueError as ve:\n",
        "    print(\"Error:\", ve)\n"
      ],
      "metadata": {
        "colab": {
          "base_uri": "https://localhost:8080/"
        },
        "id": "vLGe-qZgClsz",
        "outputId": "4a177a15-412b-43d7-ea36-b4a07e9a45ec"
      },
      "execution_count": 103,
      "outputs": [
        {
          "name": "stdout",
          "output_type": "stream",
          "text": [
            "Error: Division by zero!\n",
            "This will always execute.\n",
            "Enter a number: 12\n"
          ]
        }
      ]
    },
    {
      "cell_type": "markdown",
      "source": [
        "#11. Demonstrate the following tasks using data structures in Python\n",
        "a) List declaration\n"
      ],
      "metadata": {
        "id": "Yu4Iq6q7DKRW"
      }
    },
    {
      "cell_type": "code",
      "source": [
        "my_list = [1, 2, 3, 4, 5]\n"
      ],
      "metadata": {
        "id": "l6SSjdpnDKnS"
      },
      "execution_count": 104,
      "outputs": []
    },
    {
      "cell_type": "markdown",
      "source": [
        "b) List iteration while/for loop\n"
      ],
      "metadata": {
        "id": "GtkYINcADK8X"
      }
    },
    {
      "cell_type": "code",
      "source": [
        "\n",
        "index = 0\n",
        "while index < len(my_list):\n",
        "    print(my_list[index])\n",
        "    index += 1\n",
        "\n",
        "for element in my_list:\n",
        "    print(element)\n"
      ],
      "metadata": {
        "colab": {
          "base_uri": "https://localhost:8080/"
        },
        "id": "K771nsqoDLQG",
        "outputId": "e1ae4ca3-7dfb-4099-e6d6-59f787992a86"
      },
      "execution_count": 105,
      "outputs": [
        {
          "output_type": "stream",
          "name": "stdout",
          "text": [
            "1\n",
            "2\n",
            "3\n",
            "4\n",
            "5\n",
            "1\n",
            "2\n",
            "3\n",
            "4\n",
            "5\n"
          ]
        }
      ]
    },
    {
      "cell_type": "markdown",
      "source": [
        "c) Add element to list using append(), insert(), extend()\n"
      ],
      "metadata": {
        "id": "BnyHtcPvDq_3"
      }
    },
    {
      "cell_type": "code",
      "source": [
        "\n",
        "my_list.append(6)\n",
        "\n",
        "my_list.insert(2, 7)\n",
        "\n",
        "my_list.extend([8, 9, 10])\n"
      ],
      "metadata": {
        "id": "NOHDw8YJDrdZ"
      },
      "execution_count": 106,
      "outputs": []
    },
    {
      "cell_type": "markdown",
      "source": [
        "d) Deleting from list using del, remove(), pop()\n"
      ],
      "metadata": {
        "id": "n5kluOhHDry5"
      }
    },
    {
      "cell_type": "code",
      "source": [
        "\n",
        "del my_list[0]\n",
        "\n",
        "my_list.remove(5)\n",
        "\n",
        "popped_element = my_list.pop()\n"
      ],
      "metadata": {
        "id": "q2tz2q0wDsKI"
      },
      "execution_count": 107,
      "outputs": []
    },
    {
      "cell_type": "markdown",
      "source": [
        "e) Operations on List: Sum/Average, Min/Max, Sort, Merge, Search\n"
      ],
      "metadata": {
        "id": "Xu1uMv1iDsf4"
      }
    },
    {
      "cell_type": "code",
      "source": [
        "\n",
        "total = sum(my_list)\n",
        "average = total / len(my_list)\n",
        "\n",
        "min_value = min(my_list)\n",
        "max_value = max(my_list)\n",
        "\n",
        "my_list.sort()\n",
        "\n",
        "another_list = [11, 12, 13]\n",
        "merged_list = my_list + another_list\n",
        "\n",
        "element_to_search = 3\n",
        "if element_to_search in my_list:\n",
        "    print(\"Element found.\")\n",
        "else:\n",
        "    print(\"Element not found.\")\n"
      ],
      "metadata": {
        "colab": {
          "base_uri": "https://localhost:8080/"
        },
        "id": "M2DZD0osDs12",
        "outputId": "c636cd43-e84b-41a5-908d-62290cc20e04"
      },
      "execution_count": 108,
      "outputs": [
        {
          "output_type": "stream",
          "name": "stdout",
          "text": [
            "Element found.\n"
          ]
        }
      ]
    },
    {
      "cell_type": "markdown",
      "source": [
        "f) Generate a list of random numbers, random strings\n"
      ],
      "metadata": {
        "id": "i1xELpVtDtJ3"
      }
    },
    {
      "cell_type": "code",
      "source": [
        "import random\n",
        "\n",
        "random_numbers = [random.randint(1, 100) for _ in range(5)]\n",
        "\n",
        "import string\n",
        "random_strings = [''.join(random.choices(string.ascii_letters, k=5)) for _ in range(5)]\n"
      ],
      "metadata": {
        "id": "e27NTwg8Dtgl"
      },
      "execution_count": 109,
      "outputs": []
    },
    {
      "cell_type": "markdown",
      "source": [
        "g) Nested List\n",
        "\n"
      ],
      "metadata": {
        "id": "NsOe60_tDuL3"
      }
    },
    {
      "cell_type": "code",
      "source": [
        "nested_list = [[1, 2, 3], [4, 5, 6], [7, 8, 9]]\n"
      ],
      "metadata": {
        "id": "73FhRIEoD6Te"
      },
      "execution_count": 110,
      "outputs": []
    },
    {
      "cell_type": "markdown",
      "source": [
        "h) Use of copy() function"
      ],
      "metadata": {
        "id": "6k9e1hb2D6yZ"
      }
    },
    {
      "cell_type": "code",
      "source": [
        "original_list = [1, 2, 3]\n",
        "copied_list = original_list.copy()\n"
      ],
      "metadata": {
        "id": "WmdBSjJyD7HE"
      },
      "execution_count": 111,
      "outputs": []
    },
    {
      "cell_type": "markdown",
      "source": [
        "#12. Read any CSV file using using Pandas Library and then use Matplotlib to summarize the data.\n",
        "Also use the following techniques to understand the dataset:\n",
        "\n",
        "a) Data Distribution\n"
      ],
      "metadata": {
        "id": "iN14gDXDEq35"
      }
    },
    {
      "cell_type": "code",
      "source": [
        "import pandas as pd\n",
        "\n",
        "# Create a DataFrame\n",
        "data = {\n",
        "    'feature1': [10, 20, 30, 40, 50],\n",
        "    'feature2': [5, 15, 25, 35, 45],\n",
        "    'feature3': [100, 200, 300, 400, 500]\n",
        "}\n",
        "df = pd.DataFrame(data)\n",
        "\n",
        "# Save the DataFrame to a CSV file\n",
        "df.to_csv('your_dataset.csv', index=False)\n",
        "\n",
        "print(\"CSV file 'your_dataset.csv' has been created successfully.\")\n",
        "\n"
      ],
      "metadata": {
        "colab": {
          "base_uri": "https://localhost:8080/"
        },
        "id": "G2DGcv5WFgpt",
        "outputId": "21587f8b-75db-4789-cefe-0f4c4b4f216b"
      },
      "execution_count": 112,
      "outputs": [
        {
          "output_type": "stream",
          "name": "stdout",
          "text": [
            "CSV file 'your_dataset.csv' has been created successfully.\n"
          ]
        }
      ]
    },
    {
      "cell_type": "code",
      "source": [
        "import pandas as pd\n",
        "import matplotlib.pyplot as plt\n",
        "import seaborn as sns\n",
        "import numpy as np\n",
        "\n",
        "# Read the CSV file\n",
        "df = pd.read_csv('your_dataset')\n",
        "\n",
        "# Display the first few rows of the dataset\n",
        "print(\"First few rows of the dataset:\")\n",
        "print(df.head())\n",
        "\n",
        "# Data Distribution\n",
        "plt.figure(figsize=(5, 6))\n",
        "sns.histplot(data=df, x= ('A'), bins=20, kde=True)\n",
        "plt.title('Data Distribution')\n",
        "plt.xlabel('Feature')\n",
        "plt.ylabel('Frequency')\n",
        "plt.show()\n",
        "\n"
      ],
      "metadata": {
        "colab": {
          "base_uri": "https://localhost:8080/",
          "height": 686
        },
        "id": "N7xEq86cErOk",
        "outputId": "3fdc2315-ce3c-4068-b403-46ef71bba22d"
      },
      "execution_count": 113,
      "outputs": [
        {
          "output_type": "stream",
          "name": "stdout",
          "text": [
            "First few rows of the dataset:\n",
            "   A   B   C\n",
            "0  1   6  11\n",
            "1  2   7  12\n",
            "2  3   8  13\n",
            "3  4   9  14\n",
            "4  5  10  15\n"
          ]
        },
        {
          "output_type": "display_data",
          "data": {
            "text/plain": [
              "<Figure size 500x600 with 1 Axes>"
            ],
            "image/png": "[encoded data removed]"
          },
          "metadata": {}
        }
      ]
    },
    {
      "cell_type": "markdown",
      "source": [
        "b) Correlation Matrix\n"
      ],
      "metadata": {
        "id": "i8OvSt_HErjB"
      }
    },
    {
      "cell_type": "code",
      "source": [
        "\n",
        "# Correlation Matrix\n",
        "correlation_matrix = df.corr()\n",
        "plt.figure(figsize=(10, 6))\n",
        "sns.heatmap(correlation_matrix, annot=True, cmap='coolwarm', fmt=\".2f\", linewidths=0.5)\n",
        "plt.title('Correlation Matrix')\n",
        "plt.show()\n",
        "\n"
      ],
      "metadata": {
        "colab": {
          "base_uri": "https://localhost:8080/",
          "height": 545
        },
        "id": "7x4W5itOEr4V",
        "outputId": "7b262b7f-2348-4c35-a29b-5ca16d0b1248"
      },
      "execution_count": 114,
      "outputs": [
        {
          "output_type": "display_data",
          "data": {
            "text/plain": [
              "<Figure size 1000x600 with 2 Axes>"
            ],
            "image/png": "[encoded data removed]"
          },
          "metadata": {}
        }
      ]
    },
    {
      "cell_type": "markdown",
      "source": [
        "c) Mean, Median, Mode, Variance, and Standard Deviation of different features"
      ],
      "metadata": {
        "id": "5yBltMmWEsKq"
      }
    },
    {
      "cell_type": "code",
      "source": [
        "# Mean, Median, Mode, Variance, and Standard Deviation\n",
        "features = ['A', 'B', 'C']  # List of features to analyze\n",
        "for feature in features:\n",
        "    print(\"\\nStatistics for\", feature)\n",
        "    print(\"Mean:\", df[feature].mean())\n",
        "    print(\"Median:\", df[feature].median())\n",
        "    print(\"Mode:\", df[feature].mode()[0])\n",
        "    print(\"Variance:\", df[feature].var())\n",
        "    print(\"Standard Deviation:\", df[feature].std())"
      ],
      "metadata": {
        "colab": {
          "base_uri": "https://localhost:8080/"
        },
        "id": "xQisiNFUEsrW",
        "outputId": "bb0c4b6e-3149-4751-8ae4-17c942ec04e6"
      },
      "execution_count": 115,
      "outputs": [
        {
          "output_type": "stream",
          "name": "stdout",
          "text": [
            "\n",
            "Statistics for A\n",
            "Mean: 3.0\n",
            "Median: 3.0\n",
            "Mode: 1\n",
            "Variance: 2.5\n",
            "Standard Deviation: 1.5811388300841898\n",
            "\n",
            "Statistics for B\n",
            "Mean: 8.0\n",
            "Median: 8.0\n",
            "Mode: 6\n",
            "Variance: 2.5\n",
            "Standard Deviation: 1.5811388300841898\n",
            "\n",
            "Statistics for C\n",
            "Mean: 13.0\n",
            "Median: 13.0\n",
            "Mode: 11\n",
            "Variance: 2.5\n",
            "Standard Deviation: 1.5811388300841898\n"
          ]
        }
      ]
    },
    {
      "cell_type": "markdown",
      "source": [
        "#13. Demonstrate the basic concept of Perceptron using Python."
      ],
      "metadata": {
        "id": "x8ex5hVCEtNz"
      }
    },
    {
      "cell_type": "code",
      "source": [
        "import numpy as np\n",
        "\n",
        "class Perceptron:\n",
        "    def __init__(self, num_features, learning_rate=0.01, epochs=100):\n",
        "        self.learning_rate = learning_rate\n",
        "        self.epochs = epochs\n",
        "        self.weights = np.zeros(num_features + 1)\n",
        "\n",
        "    def predict(self, inputs):\n",
        "        summation = np.dot(inputs, self.weights[1:]) + self.weights[0]\n",
        "        return 1 if summation > 0 else 0\n",
        "\n",
        "    def train(self, training_inputs, labels):\n",
        "        for _ in range(self.epochs):\n",
        "            for inputs, label in zip(training_inputs, labels):\n",
        "                prediction = self.predict(inputs)\n",
        "                self.weights[1:] += self.learning_rate * (label - prediction) * inputs\n",
        "                self.weights[0] += self.learning_rate * (label - prediction)\n",
        "\n",
        "\n",
        "\n",
        "training_inputs = np.array([[0, 0], [0, 1], [1, 0], [1, 1]])\n",
        "labels = np.array([0, 0, 0, 1])\n",
        "\n",
        "perceptron = Perceptron(num_features=2)\n",
        "perceptron.train(training_inputs, labels)\n",
        "\n",
        "test_inputs = np.array([[0, 0], [0, 1], [1, 0], [1, 1]])\n",
        "print(\"Predictions:\")\n",
        "for inputs in test_inputs:\n",
        "    prediction = perceptron.predict(inputs)\n",
        "    print(inputs, \"->\", prediction)\n"
      ],
      "metadata": {
        "colab": {
          "base_uri": "https://localhost:8080/"
        },
        "id": "rxNPUZNEEthW",
        "outputId": "4b28e4c5-1ed9-4bf2-a70c-e56876231b76"
      },
      "execution_count": 116,
      "outputs": [
        {
          "output_type": "stream",
          "name": "stdout",
          "text": [
            "Predictions:\n",
            "[0 0] -> 0\n",
            "[0 1] -> 0\n",
            "[1 0] -> 0\n",
            "[1 1] -> 1\n"
          ]
        }
      ]
    },
    {
      "cell_type": "markdown",
      "source": [
        "#14. Demonstrate the use case of different transfer functions (Binary Step, Sigmoid, Relu, Tanh,Softmax) in Artificial Neural Network using Python."
      ],
      "metadata": {
        "id": "AcliLRS3Et0J"
      }
    },
    {
      "cell_type": "code",
      "source": [
        "import numpy as np\n",
        "\n",
        "def binary_step(x):\n",
        "    return np.where(x >= 0, 1, 0)\n",
        "\n",
        "def sigmoid(x):\n",
        "    return 1 / (1 + np.exp(-x))\n",
        "\n",
        "def relu(x):\n",
        "    return np.maximum(0, x)\n",
        "\n",
        "def tanh(x):\n",
        "    return np.tanh(x)\n",
        "\n",
        "def softmax(x):\n",
        "    exp_values = np.exp(x - np.max(x, axis=1, keepdims=True))\n",
        "    return exp_values / np.sum(exp_values, axis=1, keepdims=True)\n",
        "\n",
        "# Sample data\n",
        "inputs = np.array([[0.1, 0.2], [0.3, -0.4], [-0.5, 0.6]])\n",
        "\n",
        "\n",
        "print(\"Binary Step:\")\n",
        "print(binary_step(inputs))\n",
        "\n",
        "print(\"\\nSigmoid:\")\n",
        "print(sigmoid(inputs))\n",
        "\n",
        "print(\"\\nReLU:\")\n",
        "print(relu(inputs))\n",
        "\n",
        "print(\"\\nTanh:\")\n",
        "print(tanh(inputs))\n",
        "\n",
        "print(\"\\nSoftmax:\")\n",
        "print(softmax(inputs))\n"
      ],
      "metadata": {
        "colab": {
          "base_uri": "https://localhost:8080/"
        },
        "id": "m03f55VJEuOu",
        "outputId": "ee8dfa8b-01ec-43f2-c3f3-c39f57a35cf2"
      },
      "execution_count": 117,
      "outputs": [
        {
          "output_type": "stream",
          "name": "stdout",
          "text": [
            "Binary Step:\n",
            "[[1 1]\n",
            " [1 0]\n",
            " [0 1]]\n",
            "\n",
            "Sigmoid:\n",
            "[[0.52497919 0.549834  ]\n",
            " [0.57444252 0.40131234]\n",
            " [0.37754067 0.64565631]]\n",
            "\n",
            "ReLU:\n",
            "[[0.1 0.2]\n",
            " [0.3 0. ]\n",
            " [0.  0.6]]\n",
            "\n",
            "Tanh:\n",
            "[[ 0.09966799  0.19737532]\n",
            " [ 0.29131261 -0.37994896]\n",
            " [-0.46211716  0.53704957]]\n",
            "\n",
            "Softmax:\n",
            "[[0.47502081 0.52497919]\n",
            " [0.66818777 0.33181223]\n",
            " [0.24973989 0.75026011]]\n"
          ]
        }
      ]
    },
    {
      "cell_type": "markdown",
      "source": [
        "#15. Demonstrate the use of Perceptron for deploying Logic Gate: AND, OR, NOR, NAND, XOR"
      ],
      "metadata": {
        "id": "ysLH7DIyEumK"
      }
    },
    {
      "cell_type": "code",
      "source": [
        "import numpy as np\n",
        "\n",
        "class Perceptron:\n",
        "    def __init__(self, num_inputs, learning_rate=0.1, epochs=100):\n",
        "        self.learning_rate = learning_rate\n",
        "        self.epochs = epochs\n",
        "        self.weights = np.zeros(num_inputs + 1)\n",
        "\n",
        "    def predict(self, inputs):\n",
        "        summation = np.dot(inputs, self.weights[1:]) + self.weights[0]\n",
        "        return 1 if summation > 0 else 0\n",
        "    def train(self, training_inputs, labels):\n",
        "        for _ in range(self.epochs):\n",
        "            for inputs, label in zip(training_inputs, labels):\n",
        "                prediction = self.predict(inputs)\n",
        "                self.weights[1:] += self.learning_rate * (label - prediction) * inputs\n",
        "                self.weights[0] += self.learning_rate * (label - prediction)\n",
        "\n",
        "\n",
        "\n",
        "training_inputs = np.array([[0, 0], [0, 1], [1, 0], [1, 1]])\n",
        "and_labels = np.array([0, 0, 0, 1])\n",
        "or_labels = np.array([0, 1, 1, 1])\n",
        "nor_labels = np.array([1, 0, 0, 0])\n",
        "nand_labels = np.array([1, 1, 1, 0])\n",
        "xor_labels = np.array([0, 1, 1, 0])\n",
        "\n",
        "and_perceptron = Perceptron(num_inputs=2)\n",
        "and_perceptron.train(training_inputs, and_labels)\n",
        "\n",
        "or_perceptron = Perceptron(num_inputs=2)\n",
        "or_perceptron.train(training_inputs, or_labels)\n",
        "\n",
        "nor_perceptron = Perceptron(num_inputs=2)\n",
        "nor_perceptron.train(training_inputs, nor_labels)\n",
        "\n",
        "nand_perceptron = Perceptron(num_inputs=2)\n",
        "nand_perceptron.train(training_inputs, nand_labels)\n",
        "\n",
        "xor_perceptron = Perceptron(num_inputs=2)\n",
        "xor_perceptron.train(training_inputs, xor_labels)\n",
        "\n",
        "test_inputs = np.array([[0, 0], [0, 1], [1, 0], [1, 1]])\n",
        "\n",
        "print(\"AND Gate:\")\n",
        "for inputs in test_inputs:\n",
        "    print(inputs, \"->\", and_perceptron.predict(inputs))\n",
        "\n",
        "print(\"\\nOR Gate:\")\n",
        "for inputs in test_inputs:\n",
        "    print(inputs, \"->\", or_perceptron.predict(inputs))\n",
        "\n",
        "print(\"\\nNOR Gate:\")\n",
        "for inputs in test_inputs:\n",
        "    print(inputs, \"->\", nor_perceptron.predict(inputs))\n",
        "\n",
        "print(\"\\nNAND Gate:\")\n",
        "for inputs in test_inputs:\n",
        "    print(inputs, \"->\", nand_perceptron.predict(inputs))\n",
        "\n",
        "print(\"\\nXOR Gate:\")\n",
        "for inputs in test_inputs:\n",
        "    print(inputs, \"->\", xor_perceptron.predict(inputs))\n"
      ],
      "metadata": {
        "colab": {
          "base_uri": "https://localhost:8080/"
        },
        "id": "NxG65yRjIIyN",
        "outputId": "04343c5e-0a66-4cc4-904f-b55ffa84ce46"
      },
      "execution_count": 118,
      "outputs": [
        {
          "output_type": "stream",
          "name": "stdout",
          "text": [
            "AND Gate:\n",
            "[0 0] -> 0\n",
            "[0 1] -> 0\n",
            "[1 0] -> 0\n",
            "[1 1] -> 1\n",
            "\n",
            "OR Gate:\n",
            "[0 0] -> 0\n",
            "[0 1] -> 1\n",
            "[1 0] -> 1\n",
            "[1 1] -> 1\n",
            "\n",
            "NOR Gate:\n",
            "[0 0] -> 1\n",
            "[0 1] -> 0\n",
            "[1 0] -> 0\n",
            "[1 1] -> 0\n",
            "\n",
            "NAND Gate:\n",
            "[0 0] -> 1\n",
            "[0 1] -> 1\n",
            "[1 0] -> 1\n",
            "[1 1] -> 0\n",
            "\n",
            "XOR Gate:\n",
            "[0 0] -> 1\n",
            "[0 1] -> 1\n",
            "[1 0] -> 0\n",
            "[1 1] -> 0\n"
          ]
        }
      ]
    },
    {
      "cell_type": "markdown",
      "source": [
        "#16. Demonstrate the solution of XOR GATE (Non-Linearly Separable Problem) using ANN."
      ],
      "metadata": {
        "id": "meHY8rulIKgA"
      }
    },
    {
      "cell_type": "code",
      "source": [
        "import numpy as np\n",
        "\n",
        "class NeuralNetwork:\n",
        "    def __init__(self):\n",
        "        # Initialize weights with random values\n",
        "        self.weights_input_hidden = np.random.rand(2, 2)\n",
        "        self.weights_hidden_output = np.random.rand(2, 1)\n",
        "\n",
        "    def sigmoid(self, x):\n",
        "        return 1 / (1 + np.exp(-x))\n",
        "\n",
        "    def sigmoid_derivative(self, x):\n",
        "        return x * (1 - x)\n",
        "\n",
        "    def train(self, inputs, labels, epochs=10000, learning_rate=0.1):\n",
        "        for epoch in range(epochs):\n",
        "            # Forward propagation\n",
        "            hidden_layer_input = np.dot(inputs, self.weights_input_hidden)\n",
        "            hidden_layer_output = self.sigmoid(hidden_layer_input)\n",
        "            output_layer_input = np.dot(hidden_layer_output, self.weights_hidden_output)\n",
        "            output = self.sigmoid(output_layer_input)\n",
        "\n",
        "            # Backpropagation\n",
        "            output_error = labels - output\n",
        "            output_delta = output_error * self.sigmoid_derivative(output)\n",
        "            hidden_error = np.dot(output_delta, self.weights_hidden_output.T)\n",
        "            hidden_delta = hidden_error * self.sigmoid_derivative(hidden_layer_output)\n",
        "\n",
        "            # Update weights\n",
        "            self.weights_hidden_output += np.dot(hidden_layer_output.T, output_delta) * learning_rate\n",
        "            self.weights_input_hidden += np.dot(inputs.T, hidden_delta) * learning_rate\n",
        "\n",
        "    def predict(self, inputs):\n",
        "        hidden_layer_input = np.dot(inputs, self.weights_input_hidden)\n",
        "        hidden_layer_output = self.sigmoid(hidden_layer_input)\n",
        "        output_layer_input = np.dot(hidden_layer_output, self.weights_hidden_output)\n",
        "        output = self.sigmoid(output_layer_input)\n",
        "        return output\n",
        "\n",
        "\n",
        "# Training data for XOR gate\n",
        "inputs = np.array([[0, 0], [0, 1], [1, 0], [1, 1]])\n",
        "labels = np.array([[0], [1], [1], [0]])\n",
        "\n",
        "# Create and train the neural network\n",
        "nn = NeuralNetwork()\n",
        "nn.train(inputs, labels)\n",
        "\n",
        "# Test the trained neural network\n",
        "print(\"Predictions for XOR gate:\")\n",
        "for i in range(len(inputs)):\n",
        "    prediction = nn.predict(inputs[i])\n",
        "    print(f\"Input: {inputs[i]}, Predicted output: {prediction}\")\n"
      ],
      "metadata": {
        "colab": {
          "base_uri": "https://localhost:8080/"
        },
        "id": "tf0lHweIEvPZ",
        "outputId": "ac380975-caf1-4d34-e64d-5ec5feca0ee2"
      },
      "execution_count": 119,
      "outputs": [
        {
          "output_type": "stream",
          "name": "stdout",
          "text": [
            "Predictions for XOR gate:\n",
            "Input: [0 0], Predicted output: [0.19211862]\n",
            "Input: [0 1], Predicted output: [0.74623897]\n",
            "Input: [1 0], Predicted output: [0.74623731]\n",
            "Input: [1 1], Predicted output: [0.33093664]\n"
          ]
        }
      ]
    },
    {
      "cell_type": "markdown",
      "source": [
        "#17. Demonstrate the process of curve fitting and use of CALLABLE Library in Python."
      ],
      "metadata": {
        "id": "19pVUvHlJCtJ"
      }
    },
    {
      "cell_type": "code",
      "source": [
        "import numpy as np\n",
        "import matplotlib.pyplot as plt\n",
        "from scipy.optimize import curve_fit\n",
        "\n",
        "# Define a function to fit the data\n",
        "def func(x, a, b, c):\n",
        "    return a * np.sin(b * x + c)\n",
        "np.random.seed(0)\n",
        "x_data = np.linspace(0, 10, 100)\n",
        "y_data = 2.5 * np.sin(1.5 * x_data + 0.1) + np.random.normal(size=len(x_data))\n",
        "popt, pcov = curve_fit(func, x_data, y_data)\n",
        "# Plot the original data and the fitted curve\n",
        "plt.figure(figsize=(8, 6))\n",
        "plt.scatter(x_data, y_data, label='Original Data')\n",
        "plt.plot(x_data, func(x_data, *popt), 'r-', label='Fitted Curve')\n",
        "plt.xlabel('X')\n",
        "plt.ylabel('Y')\n",
        "plt.title('Curve Fitting with scipy.optimize.curve_fit')\n",
        "plt.legend()\n",
        "plt.grid(True)\n",
        "plt.show()\n"
      ],
      "metadata": {
        "colab": {
          "base_uri": "https://localhost:8080/",
          "height": 564
        },
        "id": "ecFZ9VgpJDFo",
        "outputId": "97b8e20b-b626-486d-c37c-a360f8fac307"
      },
      "execution_count": 120,
      "outputs": [
        {
          "output_type": "display_data",
          "data": {
            "text/plain": [
              "<Figure size 800x600 with 1 Axes>"
            ],
            "image/png": "[encoded data removed]"
          },
          "metadata": {}
        }
      ]
    },
    {
      "cell_type": "markdown",
      "source": [
        "#18. Demonstrate the interpretation of the following Error Metrics with the help of one\n",
        "problem/dataset:\n",
        "\n",
        "a) Mean Absolute Error\n",
        "\n",
        "b) Mean Squared Error\n",
        "\n",
        "c) Root Mean Squared Error (RMSE)\n",
        "\n",
        "d) R"
      ],
      "metadata": {
        "id": "Ur9fVl-sJDgb"
      }
    },
    {
      "cell_type": "code",
      "source": [
        "import numpy as np\n",
        "\n",
        "np.random.seed(0)\n",
        "areas = np.random.randint(500, 3000, 100)\n",
        "prices = 50 * areas + np.random.normal(0, 10000, 100)\n",
        "\n",
        "predicted_prices = 40 * areas + 20000\n",
        "\n",
        "# Error calculation\n",
        "errors = prices - predicted_prices\n",
        "\n",
        "# Error metrics\n",
        "mean_absolute_error = np.mean(np.abs(errors))\n",
        "mean_squared_error = np.mean(errors**2)\n",
        "root_mean_squared_error = np.sqrt(mean_squared_error)\n",
        "R_squared = 1 - (np.sum(errors**2) / np.sum((prices - np.mean(prices))**2))\n",
        "\n",
        "print(\"Mean Absolute Error:\", mean_absolute_error)\n",
        "print(\"Mean Squared Error:\", mean_squared_error)\n",
        "print(\"Root Mean Squared Error:\", root_mean_squared_error)\n",
        "print(\"R-squared:\", R_squared)\n"
      ],
      "metadata": {
        "colab": {
          "base_uri": "https://localhost:8080/"
        },
        "id": "vAmjYQ2LJEao",
        "outputId": "e3a5d40e-63ab-4498-d984-3a0a02341c03"
      },
      "execution_count": 121,
      "outputs": [
        {
          "output_type": "stream",
          "name": "stdout",
          "text": [
            "Mean Absolute Error: 10358.861935617595\n",
            "Mean Squared Error: 170847894.26770142\n",
            "Root Mean Squared Error: 13070.87962868993\n",
            "R-squared: 0.8865618707056134\n"
          ]
        }
      ]
    },
    {
      "cell_type": "markdown",
      "source": [
        "#19. Demonstrate 2 applications/usecase and one limitation of perceptron learning algorithm."
      ],
      "metadata": {
        "id": "JbTDQAMFJEzz"
      }
    },
    {
      "cell_type": "markdown",
      "source": [
        "1. Binary Classification:\n",
        "\n",
        "The perceptron algorithm is commonly used for binary classification tasks where the goal is to classify input data into one of two categories.\n",
        "\n",
        "For example, spam email detection: Given a set of email features (e.g., words, sender's address), a perceptron can be trained to distinguish between spam and non-spam emails.\n",
        "\n"
      ],
      "metadata": {
        "id": "sq_drLn4KZ0C"
      }
    },
    {
      "cell_type": "code",
      "source": [
        "import numpy as np\n",
        "\n",
        "class Perceptron:\n",
        "    def __init__(self, num_features, learning_rate=0.01, epochs=100):\n",
        "        self.learning_rate = learning_rate\n",
        "        self.epochs = epochs\n",
        "        self.weights = np.zeros(num_features + 1)  # Initialize weights with zeros (including bias)\n",
        "\n",
        "    def predict(self, inputs):\n",
        "        summation = np.dot(inputs, self.weights[1:]) + self.weights[0]  # Weighted sum + bias\n",
        "        return 1 if summation > 0 else 0  # Activation function (step function)\n",
        "\n",
        "    def train(self, training_inputs, labels):\n",
        "        for _ in range(self.epochs):\n",
        "            for inputs, label in zip(training_inputs, labels):\n",
        "                prediction = self.predict(inputs)\n",
        "                self.weights[1:] += self.learning_rate * (label - prediction) * inputs  # Update weights\n",
        "                self.weights[0] += self.learning_rate * (label - prediction)  # Update bias\n",
        "\n",
        "\n",
        "# Example of binary classification: Spam Email Detection\n",
        "# Suppose we have email features (e.g., word counts) and labels indicating spam or non-spam\n",
        "training_inputs = np.array([[3, 4], [2, 5], [5, 6], [4, 3]])\n",
        "labels = np.array([0, 1, 1, 0])  # 0 indicates non-spam, 1 indicates spam\n",
        "\n",
        "# Initialize and train the perceptron\n",
        "perceptron = Perceptron(num_features=2)\n",
        "perceptron.train(training_inputs, labels)\n",
        "\n",
        "# Test the trained perceptron\n",
        "test_inputs = np.array([[3, 5], [1, 2]])\n",
        "print(\"Predictions for Spam Email Detection:\")\n",
        "for inputs in test_inputs:\n",
        "    prediction = perceptron.predict(inputs)\n",
        "    print(f\"Features: {inputs}, Predicted label: {'Spam' if prediction == 1 else 'Non-Spam'}\")\n"
      ],
      "metadata": {
        "colab": {
          "base_uri": "https://localhost:8080/"
        },
        "id": "FlnhlM4-KqVk",
        "outputId": "aad547ac-41c7-4a23-c0e3-a05ca2a45170"
      },
      "execution_count": 126,
      "outputs": [
        {
          "output_type": "stream",
          "name": "stdout",
          "text": [
            "Predictions for Spam Email Detection:\n",
            "Features: [3 5], Predicted label: Spam\n",
            "Features: [1 2], Predicted label: Non-Spam\n"
          ]
        }
      ]
    },
    {
      "cell_type": "markdown",
      "source": [
        "2. Pattern Recognition:\n",
        "\n",
        "Perceptrons can be used for pattern recognition tasks, such as handwriting recognition or image classification.\n",
        "\n",
        "For example, in optical character recognition (OCR), perceptrons can be trained to recognize handwritten digits or letters based on pixel intensities."
      ],
      "metadata": {
        "id": "tdIKGohJNNO4"
      }
    },
    {
      "cell_type": "code",
      "source": [
        "import numpy as np\n",
        "import matplotlib.pyplot as plt\n",
        "from sklearn.model_selection import train_test_split\n",
        "from sklearn.linear_model import Perceptron\n",
        "from sklearn.metrics import accuracy_score\n",
        "\n",
        "# Generate synthetic handwritten digit images\n",
        "num_samples_per_digit = 100\n",
        "num_digits = 10\n",
        "image_size = 28\n",
        "\n",
        "X = np.zeros((num_samples_per_digit * num_digits, image_size * image_size))\n",
        "y = np.zeros(num_samples_per_digit * num_digits)\n",
        "\n",
        "for digit in range(num_digits):\n",
        "    for i in range(num_samples_per_digit):\n",
        "        image = np.random.rand(image_size, image_size)  # Random pixel intensities\n",
        "        X[digit * num_samples_per_digit + i] = image.flatten()\n",
        "        y[digit * num_samples_per_digit + i] = digit\n",
        "\n",
        "# Visualize some examples of the generated handwritten digits\n",
        "fig, axes = plt.subplots(2, 5, figsize=(10, 4))\n",
        "for i, ax in enumerate(axes.flatten()):\n",
        "    ax.imshow(X[i].reshape((image_size, image_size)), cmap='gray')\n",
        "    ax.set_title(f\"Digit: {int(y[i])}\")\n",
        "    ax.axis('off')\n",
        "plt.show()\n",
        "\n",
        "# Split the dataset into training and testing sets\n",
        "X_train, X_test, y_train, y_test = train_test_split(X, y, test_size=0.2, random_state=42)\n",
        "\n",
        "# Train a perceptron classifier\n",
        "perceptron = Perceptron(max_iter=100, random_state=42)\n",
        "perceptron.fit(X_train, y_train)\n",
        "\n",
        "# Predict on the test set\n",
        "y_pred = perceptron.predict(X_test)\n",
        "\n",
        "# Calculate accuracy\n",
        "accuracy = accuracy_score(y_test, y_pred)\n",
        "print(\"Accuracy:\", accuracy)\n",
        "\n",
        "\n"
      ],
      "metadata": {
        "colab": {
          "base_uri": "https://localhost:8080/",
          "height": 377
        },
        "id": "WzDgXlnYKtiG",
        "outputId": "da6989ba-06a7-4c28-8e9b-96946602e8b1"
      },
      "execution_count": 123,
      "outputs": [
        {
          "output_type": "display_data",
          "data": {
            "text/plain": [
              "<Figure size 1000x400 with 10 Axes>"
            ],
            "image/png": "[encoded data removed]"
          },
          "metadata": {}
        },
        {
          "output_type": "stream",
          "name": "stdout",
          "text": [
            "Accuracy: 0.09\n"
          ]
        }
      ]
    },
    {
      "cell_type": "markdown",
      "source": [
        "Limited to Linearly Separable Data:\n",
        "\n",
        "One of the main limitations of the perceptron learning algorithm is that it can only learn linearly separable patterns.\n",
        "\n",
        "If the data is not linearly separable, meaning there is no single straight line that can separate the two classes, the perceptron will fail to converge to a solution.\n",
        "\n",
        "For example, the XOR problem: The XOR gate problem cannot be solved by a single-layer perceptron because the data is not linearly separable."
      ],
      "metadata": {
        "id": "N6xRYxMPKaKw"
      }
    },
    {
      "cell_type": "code",
      "source": [
        "# Example demonstrating limitation: XOR gate problem\n",
        "\n",
        "training_inputs_xor = np.array([[0, 0], [0, 1], [1, 0], [1, 1]])\n",
        "labels_xor = np.array([0, 1, 1, 0])\n",
        "\n",
        "perceptron_xor = Perceptron(num_features=2)\n",
        "perceptron_xor.train(training_inputs_xor, labels_xor)\n",
        "\n",
        "print(\"Predictions for XOR gate problem:\")\n",
        "for inputs in training_inputs_xor:\n",
        "    prediction = perceptron_xor.predict(inputs)\n",
        "    print(f\"Inputs: {inputs}, Predicted output: {prediction}\")\n"
      ],
      "metadata": {
        "colab": {
          "base_uri": "https://localhost:8080/"
        },
        "id": "Amyb_cOlJFKe",
        "outputId": "0ef0af66-b0be-49d5-94ab-7277039906d5"
      },
      "execution_count": 127,
      "outputs": [
        {
          "output_type": "stream",
          "name": "stdout",
          "text": [
            "Predictions for XOR gate problem:\n",
            "Inputs: [0 0], Predicted output: 1\n",
            "Inputs: [0 1], Predicted output: 1\n",
            "Inputs: [1 0], Predicted output: 0\n",
            "Inputs: [1 1], Predicted output: 0\n"
          ]
        }
      ]
    },
    {
      "cell_type": "markdown",
      "source": [
        "#20. Demonstrate Multi-Layer Perceptron- Backpropagation using Python."
      ],
      "metadata": {
        "id": "6qIGGuyCNgHf"
      }
    },
    {
      "cell_type": "code",
      "source": [
        "import numpy as np\n",
        "\n",
        "class MLP:\n",
        "    def __init__(self, input_size, hidden_size, output_size, learning_rate=0.1):\n",
        "        self.input_size = input_size\n",
        "        self.hidden_size = hidden_size\n",
        "        self.output_size = output_size\n",
        "        self.learning_rate = learning_rate\n",
        "\n",
        "        # Initialize weights and biases for the hidden and output layers\n",
        "        self.weights_input_hidden = np.random.randn(input_size, hidden_size)\n",
        "        self.bias_input_hidden = np.random.randn(1, hidden_size)\n",
        "        self.weights_hidden_output = np.random.randn(hidden_size, output_size)\n",
        "        self.bias_hidden_output = np.random.randn(1, output_size)\n",
        "\n",
        "    def sigmoid(self, x):\n",
        "        return 1 / (1 + np.exp(-x))\n",
        "\n",
        "    def sigmoid_derivative(self, x):\n",
        "        return x * (1 - x)\n",
        "\n",
        "    def forward(self, inputs):\n",
        "        # Forward pass through the network\n",
        "        self.hidden_layer_input = np.dot(inputs, self.weights_input_hidden) + self.bias_input_hidden\n",
        "        self.hidden_layer_output = self.sigmoid(self.hidden_layer_input)\n",
        "        self.output_layer_input = np.dot(self.hidden_layer_output, self.weights_hidden_output) + self.bias_hidden_output\n",
        "        self.output = self.sigmoid(self.output_layer_input)\n",
        "        return self.output\n",
        "\n",
        "    def backward(self, inputs, targets):\n",
        "        # Backpropagation\n",
        "        output_error = targets - self.output\n",
        "        output_delta = output_error * self.sigmoid_derivative(self.output)\n",
        "\n",
        "        hidden_error = np.dot(output_delta, self.weights_hidden_output.T)\n",
        "        hidden_delta = hidden_error * self.sigmoid_derivative(self.hidden_layer_output)\n",
        "\n",
        "        # Update weights and biases\n",
        "        self.weights_hidden_output += np.dot(self.hidden_layer_output.T, output_delta) * self.learning_rate\n",
        "        self.bias_hidden_output += np.sum(output_delta, axis=0) * self.learning_rate\n",
        "        self.weights_input_hidden += np.dot(inputs.T, hidden_delta) * self.learning_rate\n",
        "        self.bias_input_hidden += np.sum(hidden_delta, axis=0) * self.learning_rate\n",
        "\n",
        "    def train(self, inputs, targets, epochs):\n",
        "        for epoch in range(epochs):\n",
        "            self.forward(inputs)\n",
        "            self.backward(inputs, targets)\n",
        "            if epoch % 100 == 0:\n",
        "                loss = np.mean(np.square(targets - self.output))\n",
        "                print(f\"Epoch {epoch}: Loss = {loss}\")\n",
        "\n",
        "    def predict(self, inputs):\n",
        "        return self.forward(inputs)\n",
        "\n",
        "inputs = np.array([[0, 0], [0, 1], [1, 0], [1, 1]])\n",
        "targets = np.array([[0], [1], [1], [0]])\n",
        "\n",
        "mlp = MLP(input_size=2, hidden_size=2, output_size=1)\n",
        "\n",
        "mlp.train(inputs, targets, epochs=1000)\n",
        "\n",
        "predictions = mlp.predict(inputs)\n",
        "print(\"Predictions:\")\n",
        "print(predictions)\n"
      ],
      "metadata": {
        "colab": {
          "base_uri": "https://localhost:8080/"
        },
        "id": "SSOs6QO6Ng2f",
        "outputId": "b6ead650-e3f0-40e9-ed71-b93af0d26f42"
      },
      "execution_count": 128,
      "outputs": [
        {
          "output_type": "stream",
          "name": "stdout",
          "text": [
            "Epoch 0: Loss = 0.3788171208558807\n",
            "Epoch 100: Loss = 0.24690871812788961\n",
            "Epoch 200: Loss = 0.2438627156592621\n",
            "Epoch 300: Loss = 0.24171255535357425\n",
            "Epoch 400: Loss = 0.23920494990143015\n",
            "Epoch 500: Loss = 0.23620572590094324\n",
            "Epoch 600: Loss = 0.23262783883375548\n",
            "Epoch 700: Loss = 0.2284310749391626\n",
            "Epoch 800: Loss = 0.22361868336902543\n",
            "Epoch 900: Loss = 0.2182174187552492\n",
            "Predictions:\n",
            "[[0.45858375]\n",
            " [0.67591798]\n",
            " [0.41023619]\n",
            " [0.43103166]]\n"
          ]
        }
      ]
    },
    {
      "cell_type": "code",
      "source": [],
      "metadata": {
        "id": "E4Lo-tWhNhmx"
      },
      "execution_count": null,
      "outputs": []
    }
  ]
}